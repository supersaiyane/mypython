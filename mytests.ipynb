{
 "cells": [
  {
   "cell_type": "code",
   "execution_count": 62,
   "metadata": {},
   "outputs": [
    {
     "data": {
      "text/plain": [
       "'urpreetbaljit srishtisamaira'"
      ]
     },
     "execution_count": 62,
     "metadata": {},
     "output_type": "execute_result"
    }
   ],
   "source": [
    "from this import d\n",
    "\n",
    "from pkg_resources import working_set\n",
    "\n",
    "\n",
    "name = 'Gurpreet'\n",
    "#name[4]\n",
    "#name[:1]\n",
    "#name[1:]\n",
    "# name[2::]\n",
    "#name[::1]\n",
    "#name[::-1]\n",
    "# if(name[::-1] == name[::1]):\n",
    "#     print('palindrom')\n",
    "\n",
    "# else:\n",
    "#     print ('not palindrom')\n",
    "#name[0:4:2]\n",
    "\n",
    "# len(name)\n",
    "\n",
    "\n",
    "#'dlund'.strip('d')\n",
    "\n",
    "#'but life is good!'.split()  \n",
    "#'             but life is good!'.strip()  \n",
    "# 'gurpreet'.find('e')\n",
    "# 'gurpreet'.count('e')\n",
    "\n",
    "\n",
    "# name1 = 'Andrei'\n",
    "# name2 = 'Sunny'\n",
    "# print(f'Hello there {name1} and {name2}')       # Hello there Andrei and Sunny - Newer way to do things as of python 3.6\n",
    "# print('Hello there {}, {}'.format(name1, name2))# Hello there Andrei and Sunny\n",
    "# print('Hello there %s and %s' %(name1, name2))  # Hello there Andrei and Sunny --> you can also use %d, %f, %r for integers, floats, string representations of objects respectively\n",
    "# word = 'gurpreet'\n",
    "# p = bool(word.find(word[::-1]) + 1)\n",
    "# print(p)\n",
    "# word = 'reviver'\n",
    "# p = bool(word.find(word[::-1]) +1 )\n",
    "# print(p)\n",
    "# word = 'reviver'\n",
    "# p = bool(word.find(word[::-1]) +1 )\n",
    "# print(p)\n",
    "\n",
    "# print(bool([]))\n",
    "# print(bool(range(1)))\n",
    "\n",
    "name1= 'gurpreetbaljit srishtisamaira'\n",
    "# len(name1)\n",
    "# name1[0:29:2]\n",
    "\n",
    "name1[-1]\n",
    "name1[-2]\n",
    "name1[0]\n",
    "name1[:1]\n",
    "name1[1:]\n",
    "\n"
   ]
  }
 ],
 "metadata": {
  "kernelspec": {
   "display_name": "Python 3.7.9 64-bit",
   "language": "python",
   "name": "python3"
  },
  "language_info": {
   "codemirror_mode": {
    "name": "ipython",
    "version": 3
   },
   "file_extension": ".py",
   "mimetype": "text/x-python",
   "name": "python",
   "nbconvert_exporter": "python",
   "pygments_lexer": "ipython3",
   "version": "3.7.9"
  },
  "orig_nbformat": 4,
  "vscode": {
   "interpreter": {
    "hash": "481b6c623a423a03c9b4d98abbf5fb6d1919196b64905e60a67f71edb27a56fa"
   }
  }
 },
 "nbformat": 4,
 "nbformat_minor": 2
}
