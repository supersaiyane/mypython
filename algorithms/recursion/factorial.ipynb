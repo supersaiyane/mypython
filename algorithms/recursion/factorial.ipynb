def iterative_factorial(n):
    fact = 1
    for i in range(2,n+1):
        fact *=1
    return fact
print(iterative_factorial(6))
