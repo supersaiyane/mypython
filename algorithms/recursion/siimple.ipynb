{
 "cells": [
  {
   "cell_type": "code",
   "execution_count": 23,
   "metadata": {},
   "outputs": [
    {
     "name": "stdout",
     "output_type": "stream",
     "text": [
      "16507955160908461081216919262453619309839666236496541854913520707833171034378509739399912570787600662729080382999756800000000000000000000\n"
     ]
    }
   ],
   "source": [
    "#factorial using iteration\n",
    "def iteration(n):\n",
    "    fact =1\n",
    "    for i in range(2, n+1):\n",
    "        fact *=i\n",
    "    return fact\n",
    "print(iteration(89))"
   ]
  },
  {
   "cell_type": "code",
   "execution_count": 24,
   "metadata": {},
   "outputs": [
    {
     "name": "stdout",
     "output_type": "stream",
     "text": [
      "16507955160908461081216919262453619309839666236496541854913520707833171034378509739399912570787600662729080382999756800000000000000000000\n"
     ]
    }
   ],
   "source": [
    "#factorial using recursion\n",
    "def recur_factorial(n):\n",
    "    if n==1:\n",
    "        return n\n",
    "    else:\n",
    "        temp = recur_factorial(n-1)\n",
    "        return temp *n\n",
    "print(recur_factorial(89))"
   ]
  }
 ],
 "metadata": {
  "kernelspec": {
   "display_name": "Python 3",
   "language": "python",
   "name": "python3"
  },
  "language_info": {
   "codemirror_mode": {
    "name": "ipython",
    "version": 3
   },
   "file_extension": ".py",
   "mimetype": "text/x-python",
   "name": "python",
   "nbconvert_exporter": "python",
   "pygments_lexer": "ipython3",
   "version": "3.8.5"
  },
  "orig_nbformat": 4,
  "vscode": {
   "interpreter": {
    "hash": "4769a28a92299a7114e002d97128959878bc9dacdf15a993f0489a0a6411fdd3"
   }
  }
 },
 "nbformat": 4,
 "nbformat_minor": 2
}
