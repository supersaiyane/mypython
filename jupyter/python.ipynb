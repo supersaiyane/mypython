{
 "cells": [
  {
   "cell_type": "code",
   "execution_count": 4,
   "id": "866105b0",
   "metadata": {},
   "outputs": [
    {
     "name": "stdout",
     "output_type": "stream",
     "text": [
      "total units for 20 days are 460 hours\n",
      "total units for 30 days are 690 hours\n",
      "total units for 40 days are 920 hours\n",
      "total units for 60 days are 1380 hours\n"
     ]
    }
   ],
   "source": [
    "calculation_units = 23\n",
    "name_of_unit = \"hours\"\n",
    "\n",
    "print(f\"total units for 20 days are {20 * calculation_units} {name_of_unit}\")\n",
    "print(f\"total units for 30 days are {30 * calculation_units} {name_of_unit}\")\n",
    "print(f\"total units for 40 days are {40 * calculation_units} {name_of_unit}\")\n",
    "print(f\"total units for 60 days are {60 * calculation_units} {name_of_unit}\")\n"
   ]
  },
  {
   "cell_type": "code",
   "execution_count": 9,
   "id": "77c493c6",
   "metadata": {},
   "outputs": [
    {
     "name": "stdout",
     "output_type": "stream",
     "text": [
      "total units for 20 days are 460 hours\n",
      "All good\n"
     ]
    }
   ],
   "source": [
    "calculation_units = 23\n",
    "name_of_unit = \"hours\"\n",
    "\n",
    "def days_to_units():\n",
    "    print(f\"total units for 20 days are {20 * calculation_units} {name_of_unit}\") \n",
    "    print(\"All good\")\n",
    "\n",
    "days_to_units()"
   ]
  },
  {
   "cell_type": "code",
   "execution_count": 11,
   "id": "73b02ae2",
   "metadata": {},
   "outputs": [
    {
     "name": "stdout",
     "output_type": "stream",
     "text": [
      "total units for 35 days are 805 hours\n",
      "All good\n"
     ]
    }
   ],
   "source": [
    "calculation_units = 23\n",
    "name_of_unit = \"hours\"\n",
    "\n",
    "def days_to_units(number_of_days):\n",
    "    print(f\"total units for {number_of_days} days are {number_of_days * calculation_units} {name_of_unit}\") \n",
    "    print(\"All good\")\n",
    "\n",
    "days_to_units(35)"
   ]
  },
  {
   "cell_type": "code",
   "execution_count": 12,
   "id": "086950f9",
   "metadata": {},
   "outputs": [
    {
     "name": "stdout",
     "output_type": "stream",
     "text": [
      "total units for 35 days are 805 hours\n",
      "All good\n",
      "total units for 45 days are 1035 hours\n",
      "All good\n",
      "total units for 55 days are 1265 hours\n",
      "All good\n",
      "total units for 65 days are 1495 hours\n",
      "All good\n"
     ]
    }
   ],
   "source": [
    "calculation_units = 23\n",
    "name_of_unit = \"hours\"\n",
    "\n",
    "def days_to_units(number_of_days):\n",
    "    print(f\"total units for {number_of_days} days are {number_of_days * calculation_units} {name_of_unit}\") \n",
    "    print(\"All good\")\n",
    "\n",
    "days_to_units(35)\n",
    "days_to_units(45)\n",
    "days_to_units(55)\n",
    "days_to_units(65)"
   ]
  },
  {
   "cell_type": "code",
   "execution_count": 13,
   "id": "b908293d",
   "metadata": {},
   "outputs": [
    {
     "ename": "TypeError",
     "evalue": "days_to_units() missing 1 required positional argument: 'number_of_days'",
     "output_type": "error",
     "traceback": [
      "\u001b[1;31m---------------------------------------------------------------------------\u001b[0m",
      "\u001b[1;31mTypeError\u001b[0m                                 Traceback (most recent call last)",
      "Input \u001b[1;32mIn [13]\u001b[0m, in \u001b[0;36m<cell line: 8>\u001b[1;34m()\u001b[0m\n\u001b[0;32m      5\u001b[0m     \u001b[38;5;28mprint\u001b[39m(\u001b[38;5;124mf\u001b[39m\u001b[38;5;124m\"\u001b[39m\u001b[38;5;124mtotal units for \u001b[39m\u001b[38;5;132;01m{\u001b[39;00mnumber_of_days\u001b[38;5;132;01m}\u001b[39;00m\u001b[38;5;124m days are \u001b[39m\u001b[38;5;132;01m{\u001b[39;00mnumber_of_days \u001b[38;5;241m*\u001b[39m calculation_units\u001b[38;5;132;01m}\u001b[39;00m\u001b[38;5;124m \u001b[39m\u001b[38;5;132;01m{\u001b[39;00mname_of_unit\u001b[38;5;132;01m}\u001b[39;00m\u001b[38;5;124m\"\u001b[39m) \n\u001b[0;32m      6\u001b[0m     \u001b[38;5;28mprint\u001b[39m(\u001b[38;5;124m\"\u001b[39m\u001b[38;5;124mAll good\u001b[39m\u001b[38;5;124m\"\u001b[39m)\n\u001b[1;32m----> 8\u001b[0m \u001b[43mdays_to_units\u001b[49m\u001b[43m(\u001b[49m\u001b[43m)\u001b[49m\n",
      "\u001b[1;31mTypeError\u001b[0m: days_to_units() missing 1 required positional argument: 'number_of_days'"
     ]
    }
   ],
   "source": [
    "calculation_units = 23\n",
    "name_of_unit = \"hours\"\n",
    "\n",
    "def days_to_units(number_of_days):\n",
    "    print(f\"total units for {number_of_days} days are {number_of_days * calculation_units} {name_of_unit}\") \n",
    "    print(\"All good\")\n",
    "\n",
    "days_to_units()\n"
   ]
  },
  {
   "cell_type": "code",
   "execution_count": 19,
   "id": "23dfee48",
   "metadata": {},
   "outputs": [
    {
     "name": "stdout",
     "output_type": "stream",
     "text": [
      "total units for 35 days are 805 hours\n",
      "This is awsome\n"
     ]
    }
   ],
   "source": [
    "calculation_units = 23\n",
    "name_of_unit = \"hours\"\n",
    "\n",
    "def days_to_units(number_of_days, custom_message):\n",
    "    print(f\"total units for {number_of_days} days are {number_of_days * calculation_units} {name_of_unit}\") \n",
    "    print(custom_message)\n",
    "\n",
    "days_to_units(35, \"This is awsome\")"
   ]
  },
  {
   "cell_type": "code",
   "execution_count": 23,
   "id": "11e3b47b",
   "metadata": {},
   "outputs": [
    {
     "name": "stdout",
     "output_type": "stream",
     "text": [
      "total units for 35 days are 805 hours\n",
      "This is awsome\n",
      "hours\n"
     ]
    },
    {
     "ename": "NameError",
     "evalue": "name 'number_of_days' is not defined",
     "output_type": "error",
     "traceback": [
      "\u001b[1;31m---------------------------------------------------------------------------\u001b[0m",
      "\u001b[1;31mNameError\u001b[0m                                 Traceback (most recent call last)",
      "Input \u001b[1;32mIn [23]\u001b[0m, in \u001b[0;36m<cell line: 13>\u001b[1;34m()\u001b[0m\n\u001b[0;32m     10\u001b[0m     \u001b[38;5;28mprint\u001b[39m(number_of_days)\n\u001b[0;32m     12\u001b[0m days_to_units(\u001b[38;5;241m35\u001b[39m, \u001b[38;5;124m\"\u001b[39m\u001b[38;5;124mThis is awsome\u001b[39m\u001b[38;5;124m\"\u001b[39m)\n\u001b[1;32m---> 13\u001b[0m \u001b[43mscope_check\u001b[49m\u001b[43m(\u001b[49m\u001b[43m)\u001b[49m\n",
      "Input \u001b[1;32mIn [23]\u001b[0m, in \u001b[0;36mscope_check\u001b[1;34m()\u001b[0m\n\u001b[0;32m      8\u001b[0m \u001b[38;5;28;01mdef\u001b[39;00m \u001b[38;5;21mscope_check\u001b[39m():\n\u001b[0;32m      9\u001b[0m     \u001b[38;5;28mprint\u001b[39m(name_of_unit)\n\u001b[1;32m---> 10\u001b[0m     \u001b[38;5;28mprint\u001b[39m(\u001b[43mnumber_of_days\u001b[49m)\n",
      "\u001b[1;31mNameError\u001b[0m: name 'number_of_days' is not defined"
     ]
    }
   ],
   "source": [
    "calculation_units = 23\n",
    "name_of_unit = \"hours\"\n",
    "\n",
    "def days_to_units(number_of_days, custom_message):\n",
    "    print(f\"total units for {number_of_days} days are {number_of_days * calculation_units} {name_of_unit}\") \n",
    "    print(custom_message)\n",
    "\n",
    "def scope_check():\n",
    "    print(name_of_unit)\n",
    "    print(number_of_days)\n",
    "\n",
    "days_to_units(35, \"This is awsome\")\n",
    "scope_check()"
   ]
  },
  {
   "cell_type": "code",
   "execution_count": 24,
   "id": "248cdcb4",
   "metadata": {},
   "outputs": [
    {
     "name": "stdout",
     "output_type": "stream",
     "text": [
      "\n",
      "Welcome to Hangman game by DataFlair\n",
      "\n",
      "Enter your name: Gurpreet\n",
      "Hello Gurpreet! Best of Luck!\n",
      "The game is about to start!\n",
      " Let's play Hangman!\n",
      "This is the Hangman Word: ______ Enter your guess: \n",
      "data\n",
      "Invalid Input, Try a letter\n",
      "\n",
      "This is the Hangman Word: ______ Enter your guess: \n",
      "a\n",
      "_a____\n",
      "\n",
      "This is the Hangman Word: _a____ Enter your guess: \n",
      "sas\n",
      "Invalid Input, Try a letter\n",
      "\n",
      "This is the Hangman Word: _a____ Enter your guess: \n",
      "asd\n",
      "Invalid Input, Try a letter\n",
      "\n",
      "This is the Hangman Word: _a____ Enter your guess: \n",
      "image\n",
      "Invalid Input, Try a letter\n",
      "\n",
      "This is the Hangman Word: _a____ Enter your guess: \n",
      "damage\n",
      "Invalid Input, Try a letter\n",
      "\n",
      "This is the Hangman Word: _a____ Enter your guess: \n",
      "january\n",
      "Invalid Input, Try a letter\n",
      "\n",
      "This is the Hangman Word: _a____ Enter your guess: \n",
      "january\n",
      "Invalid Input, Try a letter\n",
      "\n"
     ]
    },
    {
     "ename": "KeyboardInterrupt",
     "evalue": "Interrupted by user",
     "output_type": "error",
     "traceback": [
      "\u001b[1;31m---------------------------------------------------------------------------\u001b[0m",
      "\u001b[1;31mKeyboardInterrupt\u001b[0m                         Traceback (most recent call last)",
      "Input \u001b[1;32mIn [24]\u001b[0m, in \u001b[0;36m<cell line: 147>\u001b[1;34m()\u001b[0m\n\u001b[0;32m    141\u001b[0m         hangman()\n\u001b[0;32m    144\u001b[0m main()\n\u001b[1;32m--> 147\u001b[0m \u001b[43mhangman\u001b[49m\u001b[43m(\u001b[49m\u001b[43m)\u001b[49m\n",
      "Input \u001b[1;32mIn [24]\u001b[0m, in \u001b[0;36mhangman\u001b[1;34m()\u001b[0m\n\u001b[0;32m     56\u001b[0m \u001b[38;5;28;01mif\u001b[39;00m \u001b[38;5;28mlen\u001b[39m(guess\u001b[38;5;241m.\u001b[39mstrip()) \u001b[38;5;241m==\u001b[39m \u001b[38;5;241m0\u001b[39m \u001b[38;5;129;01mor\u001b[39;00m \u001b[38;5;28mlen\u001b[39m(guess\u001b[38;5;241m.\u001b[39mstrip()) \u001b[38;5;241m>\u001b[39m\u001b[38;5;241m=\u001b[39m \u001b[38;5;241m2\u001b[39m \u001b[38;5;129;01mor\u001b[39;00m guess \u001b[38;5;241m<\u001b[39m\u001b[38;5;241m=\u001b[39m \u001b[38;5;124m\"\u001b[39m\u001b[38;5;124m9\u001b[39m\u001b[38;5;124m\"\u001b[39m:\n\u001b[0;32m     57\u001b[0m     \u001b[38;5;28mprint\u001b[39m(\u001b[38;5;124m\"\u001b[39m\u001b[38;5;124mInvalid Input, Try a letter\u001b[39m\u001b[38;5;130;01m\\n\u001b[39;00m\u001b[38;5;124m\"\u001b[39m)\n\u001b[1;32m---> 58\u001b[0m     \u001b[43mhangman\u001b[49m\u001b[43m(\u001b[49m\u001b[43m)\u001b[49m\n\u001b[0;32m     61\u001b[0m \u001b[38;5;28;01melif\u001b[39;00m guess \u001b[38;5;129;01min\u001b[39;00m word:\n\u001b[0;32m     62\u001b[0m     already_guessed\u001b[38;5;241m.\u001b[39mextend([guess])\n",
      "Input \u001b[1;32mIn [24]\u001b[0m, in \u001b[0;36mhangman\u001b[1;34m()\u001b[0m\n\u001b[0;32m    138\u001b[0m     play_loop()\n\u001b[0;32m    140\u001b[0m \u001b[38;5;28;01melif\u001b[39;00m count \u001b[38;5;241m!=\u001b[39m limit:\n\u001b[1;32m--> 141\u001b[0m     \u001b[43mhangman\u001b[49m\u001b[43m(\u001b[49m\u001b[43m)\u001b[49m\n",
      "Input \u001b[1;32mIn [24]\u001b[0m, in \u001b[0;36mhangman\u001b[1;34m()\u001b[0m\n\u001b[0;32m     56\u001b[0m \u001b[38;5;28;01mif\u001b[39;00m \u001b[38;5;28mlen\u001b[39m(guess\u001b[38;5;241m.\u001b[39mstrip()) \u001b[38;5;241m==\u001b[39m \u001b[38;5;241m0\u001b[39m \u001b[38;5;129;01mor\u001b[39;00m \u001b[38;5;28mlen\u001b[39m(guess\u001b[38;5;241m.\u001b[39mstrip()) \u001b[38;5;241m>\u001b[39m\u001b[38;5;241m=\u001b[39m \u001b[38;5;241m2\u001b[39m \u001b[38;5;129;01mor\u001b[39;00m guess \u001b[38;5;241m<\u001b[39m\u001b[38;5;241m=\u001b[39m \u001b[38;5;124m\"\u001b[39m\u001b[38;5;124m9\u001b[39m\u001b[38;5;124m\"\u001b[39m:\n\u001b[0;32m     57\u001b[0m     \u001b[38;5;28mprint\u001b[39m(\u001b[38;5;124m\"\u001b[39m\u001b[38;5;124mInvalid Input, Try a letter\u001b[39m\u001b[38;5;130;01m\\n\u001b[39;00m\u001b[38;5;124m\"\u001b[39m)\n\u001b[1;32m---> 58\u001b[0m     \u001b[43mhangman\u001b[49m\u001b[43m(\u001b[49m\u001b[43m)\u001b[49m\n\u001b[0;32m     61\u001b[0m \u001b[38;5;28;01melif\u001b[39;00m guess \u001b[38;5;129;01min\u001b[39;00m word:\n\u001b[0;32m     62\u001b[0m     already_guessed\u001b[38;5;241m.\u001b[39mextend([guess])\n",
      "Input \u001b[1;32mIn [24]\u001b[0m, in \u001b[0;36mhangman\u001b[1;34m()\u001b[0m\n\u001b[0;32m     56\u001b[0m \u001b[38;5;28;01mif\u001b[39;00m \u001b[38;5;28mlen\u001b[39m(guess\u001b[38;5;241m.\u001b[39mstrip()) \u001b[38;5;241m==\u001b[39m \u001b[38;5;241m0\u001b[39m \u001b[38;5;129;01mor\u001b[39;00m \u001b[38;5;28mlen\u001b[39m(guess\u001b[38;5;241m.\u001b[39mstrip()) \u001b[38;5;241m>\u001b[39m\u001b[38;5;241m=\u001b[39m \u001b[38;5;241m2\u001b[39m \u001b[38;5;129;01mor\u001b[39;00m guess \u001b[38;5;241m<\u001b[39m\u001b[38;5;241m=\u001b[39m \u001b[38;5;124m\"\u001b[39m\u001b[38;5;124m9\u001b[39m\u001b[38;5;124m\"\u001b[39m:\n\u001b[0;32m     57\u001b[0m     \u001b[38;5;28mprint\u001b[39m(\u001b[38;5;124m\"\u001b[39m\u001b[38;5;124mInvalid Input, Try a letter\u001b[39m\u001b[38;5;130;01m\\n\u001b[39;00m\u001b[38;5;124m\"\u001b[39m)\n\u001b[1;32m---> 58\u001b[0m     \u001b[43mhangman\u001b[49m\u001b[43m(\u001b[49m\u001b[43m)\u001b[49m\n\u001b[0;32m     61\u001b[0m \u001b[38;5;28;01melif\u001b[39;00m guess \u001b[38;5;129;01min\u001b[39;00m word:\n\u001b[0;32m     62\u001b[0m     already_guessed\u001b[38;5;241m.\u001b[39mextend([guess])\n",
      "    \u001b[1;31m[... skipping similar frames: hangman at line 58 (3 times)]\u001b[0m\n",
      "Input \u001b[1;32mIn [24]\u001b[0m, in \u001b[0;36mhangman\u001b[1;34m()\u001b[0m\n\u001b[0;32m     56\u001b[0m \u001b[38;5;28;01mif\u001b[39;00m \u001b[38;5;28mlen\u001b[39m(guess\u001b[38;5;241m.\u001b[39mstrip()) \u001b[38;5;241m==\u001b[39m \u001b[38;5;241m0\u001b[39m \u001b[38;5;129;01mor\u001b[39;00m \u001b[38;5;28mlen\u001b[39m(guess\u001b[38;5;241m.\u001b[39mstrip()) \u001b[38;5;241m>\u001b[39m\u001b[38;5;241m=\u001b[39m \u001b[38;5;241m2\u001b[39m \u001b[38;5;129;01mor\u001b[39;00m guess \u001b[38;5;241m<\u001b[39m\u001b[38;5;241m=\u001b[39m \u001b[38;5;124m\"\u001b[39m\u001b[38;5;124m9\u001b[39m\u001b[38;5;124m\"\u001b[39m:\n\u001b[0;32m     57\u001b[0m     \u001b[38;5;28mprint\u001b[39m(\u001b[38;5;124m\"\u001b[39m\u001b[38;5;124mInvalid Input, Try a letter\u001b[39m\u001b[38;5;130;01m\\n\u001b[39;00m\u001b[38;5;124m\"\u001b[39m)\n\u001b[1;32m---> 58\u001b[0m     \u001b[43mhangman\u001b[49m\u001b[43m(\u001b[49m\u001b[43m)\u001b[49m\n\u001b[0;32m     61\u001b[0m \u001b[38;5;28;01melif\u001b[39;00m guess \u001b[38;5;129;01min\u001b[39;00m word:\n\u001b[0;32m     62\u001b[0m     already_guessed\u001b[38;5;241m.\u001b[39mextend([guess])\n",
      "Input \u001b[1;32mIn [24]\u001b[0m, in \u001b[0;36mhangman\u001b[1;34m()\u001b[0m\n\u001b[0;32m     52\u001b[0m \u001b[38;5;28;01mglobal\u001b[39;00m play_game\n\u001b[0;32m     53\u001b[0m limit \u001b[38;5;241m=\u001b[39m \u001b[38;5;241m5\u001b[39m\n\u001b[1;32m---> 54\u001b[0m guess \u001b[38;5;241m=\u001b[39m \u001b[38;5;28;43minput\u001b[39;49m\u001b[43m(\u001b[49m\u001b[38;5;124;43m\"\u001b[39;49m\u001b[38;5;124;43mThis is the Hangman Word: \u001b[39;49m\u001b[38;5;124;43m\"\u001b[39;49m\u001b[43m \u001b[49m\u001b[38;5;241;43m+\u001b[39;49m\u001b[43m \u001b[49m\u001b[43mdisplay\u001b[49m\u001b[43m \u001b[49m\u001b[38;5;241;43m+\u001b[39;49m\u001b[43m \u001b[49m\u001b[38;5;124;43m\"\u001b[39;49m\u001b[38;5;124;43m Enter your guess: \u001b[39;49m\u001b[38;5;130;43;01m\\n\u001b[39;49;00m\u001b[38;5;124;43m\"\u001b[39;49m\u001b[43m)\u001b[49m\n\u001b[0;32m     55\u001b[0m guess \u001b[38;5;241m=\u001b[39m guess\u001b[38;5;241m.\u001b[39mstrip()\n\u001b[0;32m     56\u001b[0m \u001b[38;5;28;01mif\u001b[39;00m \u001b[38;5;28mlen\u001b[39m(guess\u001b[38;5;241m.\u001b[39mstrip()) \u001b[38;5;241m==\u001b[39m \u001b[38;5;241m0\u001b[39m \u001b[38;5;129;01mor\u001b[39;00m \u001b[38;5;28mlen\u001b[39m(guess\u001b[38;5;241m.\u001b[39mstrip()) \u001b[38;5;241m>\u001b[39m\u001b[38;5;241m=\u001b[39m \u001b[38;5;241m2\u001b[39m \u001b[38;5;129;01mor\u001b[39;00m guess \u001b[38;5;241m<\u001b[39m\u001b[38;5;241m=\u001b[39m \u001b[38;5;124m\"\u001b[39m\u001b[38;5;124m9\u001b[39m\u001b[38;5;124m\"\u001b[39m:\n",
      "File \u001b[1;32mc:\\users\\gurpreet.singh\\appdata\\local\\programs\\python\\python38\\lib\\site-packages\\ipykernel\\kernelbase.py:1161\u001b[0m, in \u001b[0;36mKernel.raw_input\u001b[1;34m(self, prompt)\u001b[0m\n\u001b[0;32m   1157\u001b[0m \u001b[38;5;28;01mif\u001b[39;00m \u001b[38;5;129;01mnot\u001b[39;00m \u001b[38;5;28mself\u001b[39m\u001b[38;5;241m.\u001b[39m_allow_stdin:\n\u001b[0;32m   1158\u001b[0m     \u001b[38;5;28;01mraise\u001b[39;00m StdinNotImplementedError(\n\u001b[0;32m   1159\u001b[0m         \u001b[38;5;124m\"\u001b[39m\u001b[38;5;124mraw_input was called, but this frontend does not support input requests.\u001b[39m\u001b[38;5;124m\"\u001b[39m\n\u001b[0;32m   1160\u001b[0m     )\n\u001b[1;32m-> 1161\u001b[0m \u001b[38;5;28;01mreturn\u001b[39;00m \u001b[38;5;28;43mself\u001b[39;49m\u001b[38;5;241;43m.\u001b[39;49m\u001b[43m_input_request\u001b[49m\u001b[43m(\u001b[49m\n\u001b[0;32m   1162\u001b[0m \u001b[43m    \u001b[49m\u001b[38;5;28;43mstr\u001b[39;49m\u001b[43m(\u001b[49m\u001b[43mprompt\u001b[49m\u001b[43m)\u001b[49m\u001b[43m,\u001b[49m\n\u001b[0;32m   1163\u001b[0m \u001b[43m    \u001b[49m\u001b[38;5;28;43mself\u001b[39;49m\u001b[38;5;241;43m.\u001b[39;49m\u001b[43m_parent_ident\u001b[49m\u001b[43m[\u001b[49m\u001b[38;5;124;43m\"\u001b[39;49m\u001b[38;5;124;43mshell\u001b[39;49m\u001b[38;5;124;43m\"\u001b[39;49m\u001b[43m]\u001b[49m\u001b[43m,\u001b[49m\n\u001b[0;32m   1164\u001b[0m \u001b[43m    \u001b[49m\u001b[38;5;28;43mself\u001b[39;49m\u001b[38;5;241;43m.\u001b[39;49m\u001b[43mget_parent\u001b[49m\u001b[43m(\u001b[49m\u001b[38;5;124;43m\"\u001b[39;49m\u001b[38;5;124;43mshell\u001b[39;49m\u001b[38;5;124;43m\"\u001b[39;49m\u001b[43m)\u001b[49m\u001b[43m,\u001b[49m\n\u001b[0;32m   1165\u001b[0m \u001b[43m    \u001b[49m\u001b[43mpassword\u001b[49m\u001b[38;5;241;43m=\u001b[39;49m\u001b[38;5;28;43;01mFalse\u001b[39;49;00m\u001b[43m,\u001b[49m\n\u001b[0;32m   1166\u001b[0m \u001b[43m\u001b[49m\u001b[43m)\u001b[49m\n",
      "File \u001b[1;32mc:\\users\\gurpreet.singh\\appdata\\local\\programs\\python\\python38\\lib\\site-packages\\ipykernel\\kernelbase.py:1205\u001b[0m, in \u001b[0;36mKernel._input_request\u001b[1;34m(self, prompt, ident, parent, password)\u001b[0m\n\u001b[0;32m   1202\u001b[0m             \u001b[38;5;28;01mbreak\u001b[39;00m\n\u001b[0;32m   1203\u001b[0m \u001b[38;5;28;01mexcept\u001b[39;00m \u001b[38;5;167;01mKeyboardInterrupt\u001b[39;00m:\n\u001b[0;32m   1204\u001b[0m     \u001b[38;5;66;03m# re-raise KeyboardInterrupt, to truncate traceback\u001b[39;00m\n\u001b[1;32m-> 1205\u001b[0m     \u001b[38;5;28;01mraise\u001b[39;00m \u001b[38;5;167;01mKeyboardInterrupt\u001b[39;00m(\u001b[38;5;124m\"\u001b[39m\u001b[38;5;124mInterrupted by user\u001b[39m\u001b[38;5;124m\"\u001b[39m) \u001b[38;5;28;01mfrom\u001b[39;00m \u001b[38;5;28mNone\u001b[39m\n\u001b[0;32m   1206\u001b[0m \u001b[38;5;28;01mexcept\u001b[39;00m \u001b[38;5;167;01mException\u001b[39;00m:\n\u001b[0;32m   1207\u001b[0m     \u001b[38;5;28mself\u001b[39m\u001b[38;5;241m.\u001b[39mlog\u001b[38;5;241m.\u001b[39mwarning(\u001b[38;5;124m\"\u001b[39m\u001b[38;5;124mInvalid Message:\u001b[39m\u001b[38;5;124m\"\u001b[39m, exc_info\u001b[38;5;241m=\u001b[39m\u001b[38;5;28;01mTrue\u001b[39;00m)\n",
      "\u001b[1;31mKeyboardInterrupt\u001b[0m: Interrupted by user"
     ]
    }
   ],
   "source": [
    "#                                 Welcome to DataFlair Hangman Game:\n",
    "\n",
    "\n",
    "import random\n",
    "import time\n",
    "\n",
    "# Initial Steps to invite in the game:\n",
    "print(\"\\nWelcome to Hangman game by DataFlair\\n\")\n",
    "name = input(\"Enter your name: \")\n",
    "print(\"Hello \" + name + \"! Best of Luck!\")\n",
    "time.sleep(2)\n",
    "print(\"The game is about to start!\\n Let's play Hangman!\")\n",
    "time.sleep(3)\n",
    "\n",
    "\n",
    "# The parameters we require to execute the game:\n",
    "def main():\n",
    "    global count\n",
    "    global display\n",
    "    global word\n",
    "    global already_guessed\n",
    "    global length\n",
    "    global play_game\n",
    "    words_to_guess = [\"january\",\"border\",\"image\",\"film\",\"promise\",\"kids\",\"lungs\",\"doll\",\"rhyme\",\"damage\"\n",
    "                   ,\"plants\"]\n",
    "    word = random.choice(words_to_guess)\n",
    "    length = len(word)\n",
    "    count = 0\n",
    "    display = '_' * length\n",
    "    already_guessed = []\n",
    "    play_game = \"\"\n",
    "\n",
    "# A loop to re-execute the game when the first round ends:\n",
    "\n",
    "def play_loop():\n",
    "    global play_game\n",
    "    play_game = input(\"Do You want to play again? y = yes, n = no \\n\")\n",
    "    while play_game not in [\"y\", \"n\",\"Y\",\"N\"]:\n",
    "        play_game = input(\"Do You want to play again? y = yes, n = no \\n\")\n",
    "    if play_game == \"y\":\n",
    "        main()\n",
    "    elif play_game == \"n\":\n",
    "        print(\"Thanks For Playing! We expect you back again!\")\n",
    "        exit()\n",
    "\n",
    "# Initializing all the conditions required for the game:\n",
    "def hangman():\n",
    "    global count\n",
    "    global display\n",
    "    global word\n",
    "    global already_guessed\n",
    "    global play_game\n",
    "    limit = 5\n",
    "    guess = input(\"This is the Hangman Word: \" + display + \" Enter your guess: \\n\")\n",
    "    guess = guess.strip()\n",
    "    if len(guess.strip()) == 0 or len(guess.strip()) >= 2 or guess <= \"9\":\n",
    "        print(\"Invalid Input, Try a letter\\n\")\n",
    "        hangman()\n",
    "\n",
    "\n",
    "    elif guess in word:\n",
    "        already_guessed.extend([guess])\n",
    "        index = word.find(guess)\n",
    "        word = word[:index] + \"_\" + word[index + 1:]\n",
    "        display = display[:index] + guess + display[index + 1:]\n",
    "        print(display + \"\\n\")\n",
    "\n",
    "    elif guess in already_guessed:\n",
    "        print(\"Try another letter.\\n\")\n",
    "\n",
    "    else:\n",
    "        count += 1\n",
    "\n",
    "        if count == 1:\n",
    "            time.sleep(1)\n",
    "            print(\"   _____ \\n\"\n",
    "                  \"  |      \\n\"\n",
    "                  \"  |      \\n\"\n",
    "                  \"  |      \\n\"\n",
    "                  \"  |      \\n\"\n",
    "                  \"  |      \\n\"\n",
    "                  \"  |      \\n\"\n",
    "                  \"__|__\\n\")\n",
    "            print(\"Wrong guess. \" + str(limit - count) + \" guesses remaining\\n\")\n",
    "\n",
    "        elif count == 2:\n",
    "            time.sleep(1)\n",
    "            print(\"   _____ \\n\"\n",
    "                  \"  |     | \\n\"\n",
    "                  \"  |     |\\n\"\n",
    "                  \"  |      \\n\"\n",
    "                  \"  |      \\n\"\n",
    "                  \"  |      \\n\"\n",
    "                  \"  |      \\n\"\n",
    "                  \"__|__\\n\")\n",
    "            print(\"Wrong guess. \" + str(limit - count) + \" guesses remaining\\n\")\n",
    "\n",
    "        elif count == 3:\n",
    "           time.sleep(1)\n",
    "           print(\"   _____ \\n\"\n",
    "                 \"  |     | \\n\"\n",
    "                 \"  |     |\\n\"\n",
    "                 \"  |     | \\n\"\n",
    "                 \"  |      \\n\"\n",
    "                 \"  |      \\n\"\n",
    "                 \"  |      \\n\"\n",
    "                 \"__|__\\n\")\n",
    "           print(\"Wrong guess. \" + str(limit - count) + \" guesses remaining\\n\")\n",
    "\n",
    "        elif count == 4:\n",
    "            time.sleep(1)\n",
    "            print(\"   _____ \\n\"\n",
    "                  \"  |     | \\n\"\n",
    "                  \"  |     |\\n\"\n",
    "                  \"  |     | \\n\"\n",
    "                  \"  |     O \\n\"\n",
    "                  \"  |      \\n\"\n",
    "                  \"  |      \\n\"\n",
    "                  \"__|__\\n\")\n",
    "            print(\"Wrong guess. \" + str(limit - count) + \" last guess remaining\\n\")\n",
    "\n",
    "        elif count == 5:\n",
    "            time.sleep(1)\n",
    "            print(\"   _____ \\n\"\n",
    "                  \"  |     | \\n\"\n",
    "                  \"  |     |\\n\"\n",
    "                  \"  |     | \\n\"\n",
    "                  \"  |     O \\n\"\n",
    "                  \"  |    /|\\ \\n\"\n",
    "                  \"  |    / \\ \\n\"\n",
    "                  \"__|__\\n\")\n",
    "            print(\"Wrong guess. You are hanged!!!\\n\")\n",
    "            print(\"The word was:\",already_guessed,word)\n",
    "            play_loop()\n",
    "\n",
    "    if word == '_' * length:\n",
    "        print(\"Congrats! You have guessed the word correctly!\")\n",
    "        play_loop()\n",
    "\n",
    "    elif count != limit:\n",
    "        hangman()\n",
    "\n",
    "\n",
    "main()\n",
    "\n",
    "\n",
    "hangman()"
   ]
  },
  {
   "cell_type": "code",
   "execution_count": 31,
   "id": "462c356c",
   "metadata": {},
   "outputs": [
    {
     "name": "stdout",
     "output_type": "stream",
     "text": [
      "Hey user, enter number of days!! \n",
      "45\n"
     ]
    },
    {
     "ename": "NameError",
     "evalue": "name 'int32' is not defined",
     "output_type": "error",
     "traceback": [
      "\u001b[1;31m---------------------------------------------------------------------------\u001b[0m",
      "\u001b[1;31mNameError\u001b[0m                                 Traceback (most recent call last)",
      "Input \u001b[1;32mIn [31]\u001b[0m, in \u001b[0;36m<cell line: 9>\u001b[1;34m()\u001b[0m\n\u001b[0;32m      6\u001b[0m     \u001b[38;5;66;03m#print(custom_message)\u001b[39;00m\n\u001b[0;32m      8\u001b[0m day\u001b[38;5;241m=\u001b[39m\u001b[38;5;28minput\u001b[39m(\u001b[38;5;124m\"\u001b[39m\u001b[38;5;124mHey user, enter number of days!! \u001b[39m\u001b[38;5;130;01m\\n\u001b[39;00m\u001b[38;5;124m\"\u001b[39m)\n\u001b[1;32m----> 9\u001b[0m \u001b[43mdays_to_units\u001b[49m\u001b[43m(\u001b[49m\u001b[43mday\u001b[49m\u001b[43m)\u001b[49m\n",
      "Input \u001b[1;32mIn [31]\u001b[0m, in \u001b[0;36mdays_to_units\u001b[1;34m(day)\u001b[0m\n\u001b[0;32m      4\u001b[0m \u001b[38;5;28;01mdef\u001b[39;00m \u001b[38;5;21mdays_to_units\u001b[39m(day):\n\u001b[1;32m----> 5\u001b[0m     \u001b[38;5;28;01mreturn\u001b[39;00m \u001b[38;5;124mf\u001b[39m\u001b[38;5;124m\"\u001b[39m\u001b[38;5;124mtotal units for \u001b[39m\u001b[38;5;132;01m{\u001b[39;00mday\u001b[38;5;132;01m}\u001b[39;00m\u001b[38;5;124m days are \u001b[39m\u001b[38;5;132;01m{\u001b[39;00mint32(day) \u001b[38;5;241m*\u001b[39m calculation_units\u001b[38;5;132;01m}\u001b[39;00m\u001b[38;5;124m \u001b[39m\u001b[38;5;132;01m{\u001b[39;00mname_of_unit\u001b[38;5;132;01m}\u001b[39;00m\u001b[38;5;124m\"\u001b[39m\n",
      "\u001b[1;31mNameError\u001b[0m: name 'int32' is not defined"
     ]
    }
   ],
   "source": [
    "calculation_units = 23\n",
    "name_of_unit = \"hours\"\n",
    "\n",
    "def days_to_units(day):\n",
    "    return f\"total units for {day} days are {int32(day) * calculation_units} {name_of_unit}\"\n",
    "    #print(custom_message)\n",
    "\n",
    "day=input(\"Hey user, enter number of days!! \\n\")\n",
    "days_to_units(day)"
   ]
  },
  {
   "cell_type": "code",
   "execution_count": 32,
   "id": "a76f2420",
   "metadata": {
    "scrolled": true
   },
   "outputs": [
    {
     "name": "stdout",
     "output_type": "stream",
     "text": [
      "Hey user, enter number of days!! \n",
      "34\n"
     ]
    },
    {
     "data": {
      "text/plain": [
       "'total units for 34 days are 782 hours'"
      ]
     },
     "execution_count": 32,
     "metadata": {},
     "output_type": "execute_result"
    }
   ],
   "source": [
    "calculation_units = 23\n",
    "name_of_unit = \"hours\"\n",
    "\n",
    "def days_to_units(day):\n",
    "    return f\"total units for {day} days are {int(day) * calculation_units} {name_of_unit}\"\n",
    "    #print(custom_message)\n",
    "\n",
    "day=input(\"Hey user, enter number of days!! \\n\")\n",
    "days_to_units(day)"
   ]
  },
  {
   "cell_type": "code",
   "execution_count": 39,
   "id": "7fffdeb4",
   "metadata": {},
   "outputs": [
    {
     "name": "stdout",
     "output_type": "stream",
     "text": [
      "Hey user, enter number of days!! \n",
      "10\n"
     ]
    },
    {
     "data": {
      "text/plain": [
       "'total units for 10 days are 230 hours'"
      ]
     },
     "execution_count": 39,
     "metadata": {},
     "output_type": "execute_result"
    }
   ],
   "source": [
    "calculation_units = 23\n",
    "name_of_unit = \"hours\"\n",
    "\n",
    "def days_to_units(day):\n",
    "    if day > 0:\n",
    "        return f\"total units for {day} days are {day * calculation_units} {name_of_unit}\"\n",
    "    else:\n",
    "        return \"Not a correct input\"\n",
    "    #print(custom_message)\n",
    "\n",
    "day=input(\"Hey user, enter number of days!! \\n\")\n",
    "days_to_units(int(day))"
   ]
  },
  {
   "cell_type": "code",
   "execution_count": 40,
   "id": "221d36ac",
   "metadata": {},
   "outputs": [],
   "source": [
    "##importing mmodules\n",
    "\n",
    "from tkinter import *\n",
    "import base64\n",
    "\n",
    "#initialize window\n",
    "root = Tk()\n",
    "root.geometry('500x300')\n",
    "root.resizable(0,0)\n",
    "\n",
    "#title of the window\n",
    "root.title(\"DataFlair - Message Encode and Decode\")\n",
    "\n",
    "\n",
    "\n",
    "#label\n",
    "\n",
    "Label(root, text ='ENCODE DECODE', font = 'arial 20 bold').pack()\n",
    "Label(root, text ='DataFlair', font = 'arial 20 bold').pack(side =BOTTOM)\n",
    "\n",
    "\n",
    "#define variables\n",
    "\n",
    "Text = StringVar()\n",
    "private_key = StringVar()\n",
    "mode = StringVar()\n",
    "Result = StringVar()\n",
    "\n",
    "\n",
    "#######define function#####\n",
    "\n",
    "#function to encode\n",
    "\n",
    "def Encode(key,message):\n",
    "    enc=[]\n",
    "    for i in range(len(message)):\n",
    "        key_c = key[i % len(key)]\n",
    "        enc.append(chr((ord(message[i]) + ord(key_c)) % 256))\n",
    "        \n",
    "    return base64.urlsafe_b64encode(\"\".join(enc).encode()).decode()\n",
    "\n",
    "#function to decode\n",
    "\n",
    "def Decode(key,message):\n",
    "    dec=[]\n",
    "    message = base64.urlsafe_b64decode(message).decode()\n",
    "    for i in range(len(message)):\n",
    "        key_c = key[i % len(key)]\n",
    "        dec.append(chr((256 + ord(message[i])- ord(key_c)) % 256))\n",
    "        \n",
    "    return \"\".join(dec)\n",
    "\n",
    "#function to set mode\n",
    "def Mode():\n",
    "    if(mode.get() == 'e'):\n",
    "        Result.set(Encode(private_key.get(), Text.get()))\n",
    "    elif(mode.get() == 'd'):\n",
    "        Result.set(Decode(private_key.get(), Text.get()))\n",
    "    else:\n",
    "        Result.set('Invalid Mode')\n",
    "\n",
    "\n",
    "\n",
    "#Function to exit window\n",
    "        \n",
    "def Exit():\n",
    "    root.destroy()\n",
    "\n",
    "\n",
    "#Function to reset\n",
    "def Reset():\n",
    "    Text.set(\"\")\n",
    "    private_key.set(\"\")\n",
    "    mode.set(\"\")\n",
    "    Result.set(\"\")\n",
    "\n",
    "\n",
    "#################### Label and Button #############\n",
    "\n",
    "#Message\n",
    "Label(root, font= 'arial 12 bold', text='MESSAGE').place(x= 60,y=60)\n",
    "Entry(root, font = 'arial 10', textvariable = Text, bg = 'ghost white').place(x=290, y = 60)\n",
    "\n",
    "#key\n",
    "Label(root, font = 'arial 12 bold', text ='KEY').place(x=60, y = 90)\n",
    "Entry(root, font = 'arial 10', textvariable = private_key , bg ='ghost white').place(x=290, y = 90)\n",
    "\n",
    "\n",
    "#mode\n",
    "Label(root, font = 'arial 12 bold', text ='MODE(e-encode, d-decode)').place(x=60, y = 120)\n",
    "Entry(root, font = 'arial 10', textvariable = mode , bg= 'ghost white').place(x=290, y = 120)\n",
    "\n",
    "\n",
    "\n",
    "#result\n",
    "Entry(root, font = 'arial 10 bold', textvariable = Result, bg ='ghost white').place(x=290, y = 150)\n",
    "\n",
    "######result button\n",
    "Button(root, font = 'arial 10 bold', text = 'RESULT'  ,padx =2,bg ='LightGray' ,command = Mode).place(x=60, y = 150)\n",
    "\n",
    "\n",
    "#reset button\n",
    "Button(root, font = 'arial 10 bold' ,text ='RESET' ,width =6, command = Reset,bg = 'LimeGreen', padx=2).place(x=80, y = 190)\n",
    "\n",
    "#exit button\n",
    "Button(root, font = 'arial 10 bold',text= 'EXIT' , width = 6, command = Exit,bg = 'OrangeRed', padx=2, pady=2).place(x=180, y = 190)\n",
    "root.mainloop()\n"
   ]
  },
  {
   "cell_type": "code",
   "execution_count": 65,
   "id": "3d166a00",
   "metadata": {},
   "outputs": [
    {
     "name": "stdout",
     "output_type": "stream",
     "text": [
      "Hey user, enter number of days!! \n",
      "85\n",
      "total units for 85 days are 1955 hours\n"
     ]
    }
   ],
   "source": [
    "calculation_units = 23\n",
    "name_of_unit = \"hours\"\n",
    "\n",
    "def days_to_units(day):\n",
    "    if day > 0:\n",
    "        return f\"total units for {day} days are {day * calculation_units} {name_of_unit}\"\n",
    "    elif day == 0: \n",
    "        return \"Do not enter 0, please enter a valid possible positive number\"\n",
    "    elif day < 0:\n",
    "        return \"Please enter a positive value\"\n",
    "    else:\n",
    "        return \"Not a correct input\"\n",
    "    #print(custom_message)\n",
    "\n",
    "def validate_execute():\n",
    "        if day.isdigit():\n",
    "            calculated_value = days_to_units(int(day))\n",
    "            print(calculated_value)\n",
    "        else:\n",
    "            print(\"Please enter a valid input\")  \n",
    "    \n",
    "day=input(\"Hey user, enter number of days!! \\n\")\n",
    "validate_execute()"
   ]
  },
  {
   "cell_type": "code",
   "execution_count": 66,
   "id": "7df94b43",
   "metadata": {},
   "outputs": [
    {
     "name": "stdout",
     "output_type": "stream",
     "text": [
      "type your username here: gurpreet\n",
      "enter your password here: ········\n",
      "hello gurpreet your password ******* is 7 letters long \n",
      "your password hash is: b'ZnJndHloeQ=='\n"
     ]
    }
   ],
   "source": [
    "import getpass\n",
    "import base64\n",
    "\n",
    "username = input('type your username here: ')\n",
    "password = getpass.getpass('enter your password here: ')\n",
    "pass_byte = password.encode(\"utf-8\")\n",
    "encoded = base64.b64encode(pass_byte)\n",
    "pass_len = len(password)\n",
    "\n",
    "print(f'hello {username} your password {\"*\" * pass_len} is {len(password)} letters long ')\n",
    "print(\"your password hash is:\", encoded)"
   ]
  },
  {
   "cell_type": "code",
   "execution_count": null,
   "id": "8d06f753",
   "metadata": {},
   "outputs": [],
   "source": []
  }
 ],
 "metadata": {
  "kernelspec": {
   "display_name": "Python 3 (ipykernel)",
   "language": "python",
   "name": "python3"
  },
  "language_info": {
   "codemirror_mode": {
    "name": "ipython",
    "version": 3
   },
   "file_extension": ".py",
   "mimetype": "text/x-python",
   "name": "python",
   "nbconvert_exporter": "python",
   "pygments_lexer": "ipython3",
   "version": "3.8.5"
  }
 },
 "nbformat": 4,
 "nbformat_minor": 5
}
